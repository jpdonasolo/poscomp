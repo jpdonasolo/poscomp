{
 "cells": [
  {
   "cell_type": "code",
   "execution_count": 1,
   "metadata": {},
   "outputs": [],
   "source": [
    "!pip install -qqq tabula-py"
   ]
  },
  {
   "cell_type": "code",
   "execution_count": 10,
   "metadata": {},
   "outputs": [],
   "source": [
    "from tabula import read_pdf\n",
    "import pandas as pd"
   ]
  },
  {
   "cell_type": "code",
   "execution_count": 40,
   "metadata": {},
   "outputs": [],
   "source": [
    "url = \"https://concursos-publicacoes.s3.amazonaws.com/905/publico/905_Edital_009-2024_NotasPreliminares_TO_670442d552f32.pdf?idpub=499901\"\n",
    "tab = read_pdf(url, pages=\"all\")"
   ]
  },
  {
   "cell_type": "code",
   "execution_count": 42,
   "metadata": {},
   "outputs": [],
   "source": [
    "for i in range(len(tab)):\n",
    "    tab[i] = tab[i].dropna(axis=1, how='all')\n",
    "    \n",
    "    assert tab[i].shape[1] == 6\n",
    "    tab[i].columns = [\"Nome\", \"Inscriçao\", \"Matematica\", \"Fundamentos da Comp\", \"Tecnologia da Comp\", \"Total\"]"
   ]
  },
  {
   "cell_type": "code",
   "execution_count": 43,
   "metadata": {},
   "outputs": [],
   "source": [
    "tab = pd.concat(tab, ignore_index=True)"
   ]
  },
  {
   "cell_type": "code",
   "execution_count": 44,
   "metadata": {},
   "outputs": [],
   "source": [
    "tab = tab.replace(\"-\", None)\n",
    "tab = tab.dropna(subset=[\"Total\"])"
   ]
  },
  {
   "cell_type": "code",
   "execution_count": 45,
   "metadata": {},
   "outputs": [],
   "source": [
    "tab = tab.replace(\",\", \".\", regex=True)\n",
    "\n",
    "tab[\"Matematica\"] = tab[\"Matematica\"].astype(float)\n",
    "tab[\"Fundamentos da Comp\"] = tab[\"Fundamentos da Comp\"].astype(float)\n",
    "tab[\"Tecnologia da Comp\"] = tab[\"Tecnologia da Comp\"].astype(float)\n",
    "tab[\"Total\"] = tab[\"Total\"].astype(float)"
   ]
  },
  {
   "cell_type": "code",
   "execution_count": 46,
   "metadata": {},
   "outputs": [
    {
     "data": {
      "text/html": [
       "<div>\n",
       "<style scoped>\n",
       "    .dataframe tbody tr th:only-of-type {\n",
       "        vertical-align: middle;\n",
       "    }\n",
       "\n",
       "    .dataframe tbody tr th {\n",
       "        vertical-align: top;\n",
       "    }\n",
       "\n",
       "    .dataframe thead th {\n",
       "        text-align: right;\n",
       "    }\n",
       "</style>\n",
       "<table border=\"1\" class=\"dataframe\">\n",
       "  <thead>\n",
       "    <tr style=\"text-align: right;\">\n",
       "      <th></th>\n",
       "      <th>Matematica</th>\n",
       "      <th>Fundamentos da Comp</th>\n",
       "      <th>Tecnologia da Comp</th>\n",
       "      <th>Total</th>\n",
       "    </tr>\n",
       "  </thead>\n",
       "  <tbody>\n",
       "    <tr>\n",
       "      <th>count</th>\n",
       "      <td>821.000000</td>\n",
       "      <td>821.000000</td>\n",
       "      <td>821.000000</td>\n",
       "      <td>821.000000</td>\n",
       "    </tr>\n",
       "    <tr>\n",
       "      <th>mean</th>\n",
       "      <td>11.795371</td>\n",
       "      <td>14.761267</td>\n",
       "      <td>7.721072</td>\n",
       "      <td>34.277710</td>\n",
       "    </tr>\n",
       "    <tr>\n",
       "      <th>std</th>\n",
       "      <td>3.712803</td>\n",
       "      <td>4.188138</td>\n",
       "      <td>2.606541</td>\n",
       "      <td>8.672544</td>\n",
       "    </tr>\n",
       "    <tr>\n",
       "      <th>min</th>\n",
       "      <td>2.000000</td>\n",
       "      <td>0.000000</td>\n",
       "      <td>0.000000</td>\n",
       "      <td>2.000000</td>\n",
       "    </tr>\n",
       "    <tr>\n",
       "      <th>25%</th>\n",
       "      <td>9.000000</td>\n",
       "      <td>12.000000</td>\n",
       "      <td>6.000000</td>\n",
       "      <td>28.000000</td>\n",
       "    </tr>\n",
       "    <tr>\n",
       "      <th>50%</th>\n",
       "      <td>12.000000</td>\n",
       "      <td>15.000000</td>\n",
       "      <td>8.000000</td>\n",
       "      <td>34.000000</td>\n",
       "    </tr>\n",
       "    <tr>\n",
       "      <th>75%</th>\n",
       "      <td>15.000000</td>\n",
       "      <td>18.000000</td>\n",
       "      <td>9.000000</td>\n",
       "      <td>41.000000</td>\n",
       "    </tr>\n",
       "    <tr>\n",
       "      <th>max</th>\n",
       "      <td>20.000000</td>\n",
       "      <td>26.000000</td>\n",
       "      <td>16.000000</td>\n",
       "      <td>60.000000</td>\n",
       "    </tr>\n",
       "  </tbody>\n",
       "</table>\n",
       "</div>"
      ],
      "text/plain": [
       "       Matematica  Fundamentos da Comp  Tecnologia da Comp       Total\n",
       "count  821.000000           821.000000          821.000000  821.000000\n",
       "mean    11.795371            14.761267            7.721072   34.277710\n",
       "std      3.712803             4.188138            2.606541    8.672544\n",
       "min      2.000000             0.000000            0.000000    2.000000\n",
       "25%      9.000000            12.000000            6.000000   28.000000\n",
       "50%     12.000000            15.000000            8.000000   34.000000\n",
       "75%     15.000000            18.000000            9.000000   41.000000\n",
       "max     20.000000            26.000000           16.000000   60.000000"
      ]
     },
     "execution_count": 46,
     "metadata": {},
     "output_type": "execute_result"
    }
   ],
   "source": [
    "tab.describe()"
   ]
  },
  {
   "cell_type": "code",
   "execution_count": 49,
   "metadata": {},
   "outputs": [
    {
     "data": {
      "text/html": [
       "<div>\n",
       "<style scoped>\n",
       "    .dataframe tbody tr th:only-of-type {\n",
       "        vertical-align: middle;\n",
       "    }\n",
       "\n",
       "    .dataframe tbody tr th {\n",
       "        vertical-align: top;\n",
       "    }\n",
       "\n",
       "    .dataframe thead th {\n",
       "        text-align: right;\n",
       "    }\n",
       "</style>\n",
       "<table border=\"1\" class=\"dataframe\">\n",
       "  <thead>\n",
       "    <tr style=\"text-align: right;\">\n",
       "      <th></th>\n",
       "      <th>Nome</th>\n",
       "      <th>Inscriçao</th>\n",
       "      <th>Matematica</th>\n",
       "      <th>Fundamentos da Comp</th>\n",
       "      <th>Tecnologia da Comp</th>\n",
       "      <th>Total</th>\n",
       "    </tr>\n",
       "    <tr>\n",
       "      <th>Posiçao</th>\n",
       "      <th></th>\n",
       "      <th></th>\n",
       "      <th></th>\n",
       "      <th></th>\n",
       "      <th></th>\n",
       "      <th></th>\n",
       "    </tr>\n",
       "  </thead>\n",
       "  <tbody>\n",
       "    <tr>\n",
       "      <th>68</th>\n",
       "      <td>Joao Pedro Giordani Donasolo</td>\n",
       "      <td>90501119166-2</td>\n",
       "      <td>18.0</td>\n",
       "      <td>19.0</td>\n",
       "      <td>10.0</td>\n",
       "      <td>47.0</td>\n",
       "    </tr>\n",
       "  </tbody>\n",
       "</table>\n",
       "</div>"
      ],
      "text/plain": [
       "                                 Nome      Inscriçao  Matematica  \\\n",
       "Posiçao                                                            \n",
       "68       Joao Pedro Giordani Donasolo  90501119166-2        18.0   \n",
       "\n",
       "         Fundamentos da Comp  Tecnologia da Comp  Total  \n",
       "Posiçao                                                  \n",
       "68                      19.0                10.0   47.0  "
      ]
     },
     "execution_count": 49,
     "metadata": {},
     "output_type": "execute_result"
    }
   ],
   "source": [
    "sorted = tab.sort_values(\"Total\", ascending=False)\n",
    "sorted.index = range(1, len(sorted) + 1)\n",
    "sorted.index.name = \"Posiçao\"\n",
    "\n",
    "flt = sorted[\"Nome\"] == \"Joao Pedro Giordani Donasolo\"\n",
    "sorted[flt]"
   ]
  }
 ],
 "metadata": {
  "kernelspec": {
   "display_name": ".venv",
   "language": "python",
   "name": "python3"
  },
  "language_info": {
   "codemirror_mode": {
    "name": "ipython",
    "version": 3
   },
   "file_extension": ".py",
   "mimetype": "text/x-python",
   "name": "python",
   "nbconvert_exporter": "python",
   "pygments_lexer": "ipython3",
   "version": "3.12.3"
  }
 },
 "nbformat": 4,
 "nbformat_minor": 2
}
